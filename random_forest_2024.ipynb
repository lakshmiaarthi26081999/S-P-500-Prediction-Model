{
  "nbformat": 4,
  "nbformat_minor": 0,
  "metadata": {
    "colab": {
      "provenance": []
    },
    "kernelspec": {
      "name": "python3",
      "display_name": "Python 3"
    },
    "language_info": {
      "name": "python"
    }
  },
  "cells": [
    {
      "cell_type": "code",
      "execution_count": null,
      "metadata": {
        "id": "VtsUutGuFgS4"
      },
      "outputs": [],
      "source": [
        "from functools import reduce\n",
        "import pandas as pd\n",
        "from sklearn.ensemble import RandomForestClassifier\n",
        "from sklearn.model_selection import train_test_split\n",
        "import os\n",
        "\n"
      ]
    },
    {
      "cell_type": "code",
      "source": [
        "from google.colab import drive\n",
        "drive.mount('/content/drive')"
      ],
      "metadata": {
        "colab": {
          "base_uri": "https://localhost:8080/"
        },
        "id": "l0e7wYVRnCFl",
        "outputId": "254f3cbf-9dae-45b3-8687-7491a8c62b53"
      },
      "execution_count": null,
      "outputs": [
        {
          "output_type": "stream",
          "name": "stdout",
          "text": [
            "Mounted at /content/drive\n"
          ]
        }
      ]
    },
    {
      "cell_type": "code",
      "source": [
        "excel_files = [ os.path.join(\"/content/drive/MyDrive/random forest - 2024\", file) for file in os.listdir(\"/content/drive/MyDrive/random forest - 2024\") if file != \"SP500_month_end_prices_2024_1927\" and file.endswith(\".xlsx\")]\n",
        "\n"
      ],
      "metadata": {
        "id": "2FVkPVTAFzPe"
      },
      "execution_count": null,
      "outputs": []
    },
    {
      "cell_type": "code",
      "source": [
        "    SP = pd.read_excel('/content/drive/MyDrive/random forest - 2024/SP500_month_end_prices_2024_1927.xlsx')\n",
        "    data =  SP.iloc[:,1]\n"
      ],
      "metadata": {
        "id": "wa1IqDsXGOHV"
      },
      "execution_count": null,
      "outputs": []
    },
    {
      "cell_type": "code",
      "source": [],
      "metadata": {
        "id": "bPj5-2hTHRf7"
      },
      "execution_count": null,
      "outputs": []
    },
    {
      "cell_type": "code",
      "source": [
        "    SP = SP.set_index('Date').resample('M').ffill().reset_index()\n",
        "    SP['NextMonthDirection'] = SP['Close'].pct_change()\n",
        "    SP['NextMonthDirection'] = SP['NextMonthDirection'].shift(-1)\n",
        "    SP = SP.dropna()"
      ],
      "metadata": {
        "id": "HWVjyWa7GVdp"
      },
      "execution_count": null,
      "outputs": []
    },
    {
      "cell_type": "code",
      "source": [
        "SP['NextMonthDirection'].describe()"
      ],
      "metadata": {
        "colab": {
          "base_uri": "https://localhost:8080/",
          "height": 335
        },
        "id": "01durr7UILA1",
        "outputId": "e0c893e8-8c1a-422f-e059-8233861ff987"
      },
      "execution_count": null,
      "outputs": [
        {
          "output_type": "execute_result",
          "data": {
            "text/plain": [
              "count    1160.000000\n",
              "mean        0.006373\n",
              "std         0.053596\n",
              "min        -0.299423\n",
              "25%        -0.019444\n",
              "50%         0.009244\n",
              "75%         0.035969\n",
              "max         0.391376\n",
              "Name: NextMonthDirection, dtype: float64"
            ],
            "text/html": [
              "<div>\n",
              "<style scoped>\n",
              "    .dataframe tbody tr th:only-of-type {\n",
              "        vertical-align: middle;\n",
              "    }\n",
              "\n",
              "    .dataframe tbody tr th {\n",
              "        vertical-align: top;\n",
              "    }\n",
              "\n",
              "    .dataframe thead th {\n",
              "        text-align: right;\n",
              "    }\n",
              "</style>\n",
              "<table border=\"1\" class=\"dataframe\">\n",
              "  <thead>\n",
              "    <tr style=\"text-align: right;\">\n",
              "      <th></th>\n",
              "      <th>NextMonthDirection</th>\n",
              "    </tr>\n",
              "  </thead>\n",
              "  <tbody>\n",
              "    <tr>\n",
              "      <th>count</th>\n",
              "      <td>1160.000000</td>\n",
              "    </tr>\n",
              "    <tr>\n",
              "      <th>mean</th>\n",
              "      <td>0.006373</td>\n",
              "    </tr>\n",
              "    <tr>\n",
              "      <th>std</th>\n",
              "      <td>0.053596</td>\n",
              "    </tr>\n",
              "    <tr>\n",
              "      <th>min</th>\n",
              "      <td>-0.299423</td>\n",
              "    </tr>\n",
              "    <tr>\n",
              "      <th>25%</th>\n",
              "      <td>-0.019444</td>\n",
              "    </tr>\n",
              "    <tr>\n",
              "      <th>50%</th>\n",
              "      <td>0.009244</td>\n",
              "    </tr>\n",
              "    <tr>\n",
              "      <th>75%</th>\n",
              "      <td>0.035969</td>\n",
              "    </tr>\n",
              "    <tr>\n",
              "      <th>max</th>\n",
              "      <td>0.391376</td>\n",
              "    </tr>\n",
              "  </tbody>\n",
              "</table>\n",
              "</div><br><label><b>dtype:</b> float64</label>"
            ]
          },
          "metadata": {},
          "execution_count": 7
        }
      ]
    },
    {
      "cell_type": "code",
      "source": [
        "ranges = [(-999, -0.1, 0), (-0.1, -0.05, 1), (-0.05, 0, 2), (0, 0.05, 3), (0.05, 0.1, 4), (0.1, 999, 5)]\n",
        "\n",
        "# Create a function to classify values\n",
        "def classify_value(value):\n",
        "    for low, high, class_name in ranges:\n",
        "\n",
        "        if low <= value <= high:\n",
        "            return class_name\n",
        "SP['NextMonthDirection'] = SP['NextMonthDirection'].apply(classify_value)\n",
        "\n",
        "# Date = SP[['Date', 'Close']].copy().reset_index(drop = True)\n",
        "# numeric_SP = pd.DataFrame(SP['NextMonthDirection'], columns = ['NextMonthDirection'])\n",
        "\n",
        "# # Apply the `classify_value` function only to the numeric columns\n",
        "# classified_numeric_SP = numeric_SP.applymap(classify_value)\n",
        "\n",
        "# # Combine the classified numeric data with the 'date' column from the original DataFrame\n",
        "#SP = Date.join(classified_numeric_SP).reset_index(drop=True)"
      ],
      "metadata": {
        "id": "fe1kjiiuHldY"
      },
      "execution_count": null,
      "outputs": []
    },
    {
      "cell_type": "code",
      "source": [
        "  master = []\n",
        "\n",
        "  for i in excel_files:\n",
        "      df = pd.read_excel(i)\n",
        "      data =  df.iloc[:,1]\n",
        "      df = df.set_index('Date').resample('M').ffill().reset_index().fillna(method='ffill').dropna()\n",
        "      num_lags = 6\n",
        "      exclude_columns = ['Date']\n",
        "      lag_columns = [col for col in df.columns if col not in exclude_columns]\n",
        "      for column in lag_columns:\n",
        "          for i in range(1, num_lags + 1):\n",
        "              df[f'{column}_Lag_{i}'] = df[column].shift(i)\n",
        "      df = df.fillna(method='ffill').dropna()\n",
        "      Date = pd.DataFrame(df['Date'], columns=['Date']).reset_index(drop=True)\n",
        "      a =[]\n",
        "      a.append(SP)\n",
        "      a.append(df)\n",
        "      df = reduce(lambda  left,right: pd.merge(left,right,on=['Date'],\n",
        "                                              how='outer'), a)\n",
        "      df = df.dropna().reset_index(drop=True)\n",
        "      master.append(df)"
      ],
      "metadata": {
        "colab": {
          "base_uri": "https://localhost:8080/"
        },
        "id": "f-Gseq0VIvmU",
        "outputId": "037f6c41-5933-4906-d17c-fd9402b944f0"
      },
      "execution_count": null,
      "outputs": [
        {
          "output_type": "stream",
          "name": "stderr",
          "text": [
            "<ipython-input-9-b4c3c5b7c507>:6: FutureWarning: DataFrame.fillna with 'method' is deprecated and will raise in a future version. Use obj.ffill() or obj.bfill() instead.\n",
            "  df = df.set_index('Date').resample('M').ffill().reset_index().fillna(method='ffill').dropna()\n",
            "<ipython-input-9-b4c3c5b7c507>:13: FutureWarning: DataFrame.fillna with 'method' is deprecated and will raise in a future version. Use obj.ffill() or obj.bfill() instead.\n",
            "  df = df.fillna(method='ffill').dropna()\n",
            "<ipython-input-9-b4c3c5b7c507>:6: FutureWarning: DataFrame.fillna with 'method' is deprecated and will raise in a future version. Use obj.ffill() or obj.bfill() instead.\n",
            "  df = df.set_index('Date').resample('M').ffill().reset_index().fillna(method='ffill').dropna()\n",
            "<ipython-input-9-b4c3c5b7c507>:13: FutureWarning: DataFrame.fillna with 'method' is deprecated and will raise in a future version. Use obj.ffill() or obj.bfill() instead.\n",
            "  df = df.fillna(method='ffill').dropna()\n",
            "<ipython-input-9-b4c3c5b7c507>:6: FutureWarning: DataFrame.fillna with 'method' is deprecated and will raise in a future version. Use obj.ffill() or obj.bfill() instead.\n",
            "  df = df.set_index('Date').resample('M').ffill().reset_index().fillna(method='ffill').dropna()\n",
            "<ipython-input-9-b4c3c5b7c507>:13: FutureWarning: DataFrame.fillna with 'method' is deprecated and will raise in a future version. Use obj.ffill() or obj.bfill() instead.\n",
            "  df = df.fillna(method='ffill').dropna()\n",
            "<ipython-input-9-b4c3c5b7c507>:6: FutureWarning: DataFrame.fillna with 'method' is deprecated and will raise in a future version. Use obj.ffill() or obj.bfill() instead.\n",
            "  df = df.set_index('Date').resample('M').ffill().reset_index().fillna(method='ffill').dropna()\n",
            "<ipython-input-9-b4c3c5b7c507>:13: FutureWarning: DataFrame.fillna with 'method' is deprecated and will raise in a future version. Use obj.ffill() or obj.bfill() instead.\n",
            "  df = df.fillna(method='ffill').dropna()\n"
          ]
        }
      ]
    },
    {
      "cell_type": "code",
      "source": [
        "Random_state =123\n",
        "\n",
        "#Define Randome Forest Model\n",
        "def RF(input,Random_state):\n",
        "\n",
        "    X = input.drop(['NextMonthDirection', 'Date'], axis=1)  # Features\n",
        "    Y = input['NextMonthDirection']  # Target variable\n",
        "    X_train, X_test, Y_train, Y_test = train_test_split(X, Y, test_size=0.3, random_state=123)\n",
        "    rf_classifier = RandomForestClassifier(n_estimators=10000, random_state=Random_state) # perform grid search for hyper parameter tuning to be done\n",
        "    rf_classifier.fit(X_train, Y_train)\n",
        "    A = rf_classifier.predict(X) # why are we predicting on everything?\n",
        "    Random_state += 1\n",
        "    return(A)\n",
        "\n",
        "# Combined model using Random Forest\n",
        "collective_result = []\n",
        "individual_result =[]\n",
        "def Combined_RF():\n",
        "    randon_result = []\n",
        "    a = 0\n",
        "    for item in master:\n",
        "        df = pd.DataFrame(RF(item,Random_state), columns= [f'Prediction_c{a+1}'])\n",
        "        result_df = pd.concat([ item['Date'].reset_index(drop=True), df.reset_index(drop=True)], axis=1)\n",
        "        randon_result.append(result_df)\n",
        "        a += 1\n",
        "    randon_result.append(SP)\n",
        "    result = reduce(lambda  left,right: pd.merge(left,right,on=['Date'],\n",
        "                                                how='outer'), randon_result)\n",
        "    individual_result.append(result.dropna())\n",
        "    return(RF(result.dropna(),Random_state))\n",
        "\n",
        "\n",
        "# Final output as excel file\n",
        "for i in range(1):\n",
        "    collective_result.append(Combined_RF())\n",
        "\n",
        "individual_result = pd.concat([pd.DataFrame(data) for data in individual_result])\n",
        "individual_result = individual_result #what is the difference between both?\n",
        "individual_result.to_excel(\"/content/drive/MyDrive/random forest - 2024/individual_result.xlsx\", index=False)\n",
        "collective_result = pd.concat([pd.DataFrame(data) for data in collective_result])\n",
        "collective_result = collective_result\n",
        "collective_result.to_excel(\"/content/drive/MyDrive/random forest - 2024/collective_result.xlsx\", index=False)\n",
        "\n",
        "print(collective_result.tail())\n",
        "print(individual_result.tail())\n",
        "\n"
      ],
      "metadata": {
        "id": "wd3MOx-4KxrR",
        "colab": {
          "base_uri": "https://localhost:8080/"
        },
        "outputId": "fb08391b-4439-4978-c26c-f70c028e2b21"
      },
      "execution_count": null,
      "outputs": [
        {
          "output_type": "stream",
          "name": "stdout",
          "text": [
            "     0\n",
            "158  2\n",
            "159  3\n",
            "160  3\n",
            "161  3\n",
            "162  3\n",
            "          Date  Prediction_c1  Prediction_c2  Prediction_c3  Prediction_c4  \\\n",
            "158 2024-03-31            2.0            2.0            2.0            3.0   \n",
            "159 2024-04-30            3.0            3.0            3.0            3.0   \n",
            "160 2024-05-31            3.0            3.0            3.0            3.0   \n",
            "161 2024-06-30            3.0            3.0            3.0            3.0   \n",
            "162 2024-07-31            3.0            2.0            3.0            3.0   \n",
            "\n",
            "           Close  NextMonthDirection  \n",
            "158  5254.350098                   2  \n",
            "159  5035.689941                   3  \n",
            "160  5277.509766                   3  \n",
            "161  5460.479980                   3  \n",
            "162  5463.540039                   2  \n"
          ]
        }
      ]
    },
    {
      "cell_type": "code",
      "source": [],
      "metadata": {
        "id": "kivOtkRNLHBv"
      },
      "execution_count": null,
      "outputs": []
    }
  ]
}